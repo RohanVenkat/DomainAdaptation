{
 "cells": [
  {
   "cell_type": "code",
   "execution_count": 119,
   "id": "5ed56954-fd2d-41c7-ae5d-1236c122953d",
   "metadata": {},
   "outputs": [],
   "source": [
    "import numpy as np\n",
    "import os\n",
    "import torch\n",
    "import torch.nn as nn\n",
    "import math\n",
    "import optuna\n",
    "from optuna.trial import TrialState\n",
    "from numpy import asarray\n",
    "import pandas as pd\n",
    "import torch.optim as optim\n",
    "import random\n",
    "from keras.datasets import mnist\n",
    "import copy\n",
    "from sklearn.metrics import mean_squared_error\n",
    "from torchvision import datasets, models, transforms\n",
    "from numpy import random\n",
    "from scipy import ndimage\n",
    "from torch.utils.data import DataLoader, TensorDataset\n",
    "import torchvision.transforms as T\n",
    "import matplotlib.pyplot as plt\n",
    "import torchvision.transforms.functional as TF\n",
    "from astropy.visualization import simple_norm\n",
    "import optuna\n",
    "from optuna.trial import TrialState\n",
    "from sklearn.linear_model import LinearRegression\n",
    "from sklearn.preprocessing import MinMaxScaler\n",
    "from pytorch_lightning.callbacks.early_stopping import EarlyStopping"
   ]
  },
  {
   "cell_type": "markdown",
   "id": "278394e6-5dd3-492d-9806-a3344b59fa4c",
   "metadata": {},
   "source": [
    "**First doing all the GPU stuff"
   ]
  },
  {
   "cell_type": "code",
   "execution_count": 120,
   "id": "55b72668-bdca-4d5c-b8df-3a651c551a40",
   "metadata": {
    "tags": []
   },
   "outputs": [],
   "source": [
    "torch.cuda.empty_cache()\n",
    "#checking if GPU is avaialble to be used\n",
    "torch.cuda.is_available()\n",
    "if torch.cuda.is_available():  \n",
    "  dev = \"cuda:0\" \n",
    "else:  \n",
    "  dev = \"cpu\"  \n",
    "device = torch.device(dev)  "
   ]
  },
  {
   "cell_type": "markdown",
   "id": "fe016d41-f837-4b00-aa46-0baabee6f23e",
   "metadata": {},
   "source": [
    "**Next, making the proper input training image and label tensors (x_train is the training tensor and y_train are the labels corresponding to x_train)"
   ]
  },
  {
   "cell_type": "code",
   "execution_count": 121,
   "id": "667e289a-9708-4121-9d05-0f73d1ae18b5",
   "metadata": {},
   "outputs": [
    {
     "name": "stdout",
     "output_type": "stream",
     "text": [
      "torch.Size([2694, 1, 202, 202])\n",
      "torch.Size([2694, 2])\n"
     ]
    }
   ],
   "source": [
    "x_data_old = np.load('x_data_gal.csv')\n",
    "y_data_old = np.load('y_data_gal.csv')\n",
    "y_data_old[:,0] = np.log(y_data_old[:,0])\n",
    "y_data_old[:,1] = np.log(y_data_old[:,1])\n",
    "min0 = np.min((y_data_old[:,0]))\n",
    "max0 = np.max((y_data_old[:,0]))\n",
    "min1 = np.min(y_data_old[:,1])\n",
    "max1 = np.max((y_data_old[:,1]))\n",
    "y_data_old[:,0] = ((y_data_old[:,0] - min0)/(max0 - min0))\n",
    "y_data_old[:,1] = ((y_data_old[:,1]) - min1)/(max1 - min1)\n",
    "x_data_old = torch.from_numpy(x_data_old)\n",
    "y_data_old = torch.from_numpy(y_data_old)\n",
    "print(x_data_old.shape)\n",
    "print(y_data_old.shape)"
   ]
  },
  {
   "cell_type": "code",
   "execution_count": 122,
   "id": "dfe6fea6-7f39-45ae-bbb9-5031c3b2a57a",
   "metadata": {},
   "outputs": [],
   "source": [
    "y_data_old = y_data_old[:,1] #SETS WHETHER WE DO SFR OR SM"
   ]
  },
  {
   "cell_type": "code",
   "execution_count": 123,
   "id": "01d905ca-b779-4c7e-91f2-2e54d1be70e3",
   "metadata": {
    "tags": []
   },
   "outputs": [
    {
     "name": "stdout",
     "output_type": "stream",
     "text": [
      "tensor(0.)\n",
      "tensor(1.)\n"
     ]
    }
   ],
   "source": [
    "print(torch.min(y_data_old))\n",
    "print(torch.max(y_data_old))"
   ]
  },
  {
   "cell_type": "code",
   "execution_count": 124,
   "id": "4a1bff69-1dcf-4c07-8fc8-d9d939bbd44a",
   "metadata": {},
   "outputs": [],
   "source": [
    "def remove_outliers(x_data,y_data,n): #removes %n outliers on both ends for SFR and mass\n",
    "    y_sorted_sfr, indices = torch.sort(y_data)\n",
    "    x_data_new = np.zeros(x_data.shape)\n",
    "    y_data_new = np.zeros(y_data.shape)\n",
    "    for i in range(len(x_data)):\n",
    "        ind = indices[i]\n",
    "        x_data_new[i] = x_data[ind]\n",
    "        y_data_new[i] = y_data[ind]\n",
    "    num = int((n/100*len(x_data))/2)\n",
    "    x_data_new = x_data_new.astype('float32')\n",
    "    y_data_new = y_data_new.astype('float32')\n",
    "    x_data_new = x_data_new[num:-num]\n",
    "    y_data_new = y_data_new[num:-num]\n",
    "    x_data_new = torch.from_numpy(x_data_new)\n",
    "    y_data_new = torch.from_numpy(y_data_new)\n",
    "    return (x_data_new,y_data_new)"
   ]
  },
  {
   "cell_type": "code",
   "execution_count": 125,
   "id": "b123a5e6-1edf-43e9-9744-7fa75c93ff32",
   "metadata": {},
   "outputs": [],
   "source": [
    "x_data,y_data = remove_outliers(x_data_old,y_data_old,25)"
   ]
  },
  {
   "cell_type": "code",
   "execution_count": 126,
   "id": "e536e0c0-94a8-4603-af98-9b05430b7375",
   "metadata": {},
   "outputs": [
    {
     "name": "stdout",
     "output_type": "stream",
     "text": [
      "torch.Size([2022, 1, 202, 202])\n",
      "torch.Size([2022])\n"
     ]
    }
   ],
   "source": [
    "print(x_data.shape)\n",
    "print(y_data.shape)"
   ]
  },
  {
   "cell_type": "markdown",
   "id": "6459a105-583c-4dbb-b4be-338c2cc295fa",
   "metadata": {},
   "source": [
    "**Now, splitting them into training, testing, and validation"
   ]
  },
  {
   "cell_type": "code",
   "execution_count": 127,
   "id": "67ea4531-fc6b-4359-b98c-7ea6e955c7e7",
   "metadata": {
    "tags": []
   },
   "outputs": [],
   "source": [
    "#70:10:20 for training:valid:test (using only 2100 data points)\n",
    "nb_train = int(0.7*len(x_data))\n",
    "nb_valid = int(0.1*len(x_data))\n",
    "nb_test = int(0.2*len(x_data))\n",
    "nb_epoch = 100\n",
    "batch_size = 38\n",
    "#shuffling the data\n",
    "random.seed(5)\n",
    "idx = np.random.choice(len(x_data), size=len(x_data), replace=False)\n",
    "x_data = x_data[idx]\n",
    "y_data = y_data[idx]\n",
    "\n",
    "# indices for where to slice the arrays\n",
    "ind_valid_start = ind_train_end = nb_train\n",
    "ind_valid_end = ind_test_start = nb_train + nb_valid\n",
    "ind_test_end = nb_train + nb_valid + nb_test\n",
    "\n",
    "# slice the image arrays\n",
    "x_train = x_data[:ind_train_end, :, :]\n",
    "x_valid = x_data[ind_valid_start: ind_valid_end, :, :]\n",
    "x_test = x_data[ind_test_start: ind_test_end, :, :]\n",
    "\n",
    "# slice the label arrays\n",
    "y_train = y_data[:ind_train_end]\n",
    "y_valid = y_data[ind_valid_start: ind_valid_end]\n",
    "y_test = y_data[ind_test_start: ind_test_end]"
   ]
  },
  {
   "cell_type": "code",
   "execution_count": 128,
   "id": "5a317120-5284-48a8-9ab7-1e2f5c8d0557",
   "metadata": {
    "tags": []
   },
   "outputs": [],
   "source": [
    "x_train = x_train.to(device)\n",
    "x_test = x_test.to(device)\n",
    "x_valid = x_valid.to(device)\n",
    "y_valid = y_valid.to(device)\n",
    "y_train = y_train.to(device)\n",
    "y_test = y_test.to(device)"
   ]
  },
  {
   "cell_type": "code",
   "execution_count": 129,
   "id": "e643d11f-28be-41bc-bcc3-3e983391f257",
   "metadata": {
    "tags": []
   },
   "outputs": [],
   "source": [
    "dataset_train = TensorDataset(x_train, y_train)\n",
    "dataset_valid = TensorDataset(x_valid, y_valid)\n",
    "dataloader_train = DataLoader(dataset_train, batch_size=batch_size, shuffle=True)\n",
    "dataloader_valid = DataLoader(dataset_valid, batch_size=len(y_valid), shuffle=True)"
   ]
  },
  {
   "cell_type": "code",
   "execution_count": 130,
   "id": "24a43155-5d43-4606-8ff1-c609afdefcda",
   "metadata": {},
   "outputs": [
    {
     "name": "stdout",
     "output_type": "stream",
     "text": [
      "torch.Size([1415, 1, 202, 202])\n",
      "torch.Size([1415])\n",
      "torch.Size([202, 1, 202, 202])\n",
      "torch.Size([202])\n"
     ]
    }
   ],
   "source": [
    "print(x_train.shape)\n",
    "print(y_train.shape)\n",
    "print(x_valid.shape)\n",
    "print(y_valid.shape)"
   ]
  },
  {
   "cell_type": "code",
   "execution_count": 131,
   "id": "8794fff5-0b7a-4174-b0e8-01326dcdf52b",
   "metadata": {},
   "outputs": [
    {
     "name": "stdout",
     "output_type": "stream",
     "text": [
      "torch.Size([404])\n"
     ]
    }
   ],
   "source": [
    "print(y_test.shape)"
   ]
  },
  {
   "cell_type": "markdown",
   "id": "599e7b22-e598-4006-b6b8-86e16a3a215a",
   "metadata": {},
   "source": [
    "**Creating the model"
   ]
  },
  {
   "cell_type": "code",
   "execution_count": 132,
   "id": "efe766c5-5d67-4383-85d9-bc8648c68d97",
   "metadata": {
    "tags": []
   },
   "outputs": [],
   "source": [
    "class galmodel(nn.Module):\n",
    "    #def __init__(self,trial):\n",
    "    def __init__(self):\n",
    "        super().__init__()\n",
    "        #n_outp1 = trial.suggest_int(\"n_outp1\", 1, 40)  \n",
    "        #n_outp2 = trial.suggest_int(\"n_outp2\", 1, 40)  \n",
    "        #nmp1 = trial.suggest_int(\"nmp1\", 1, 40)\n",
    "        #nmp2 = trial.suggest_int(\"nmp2\", 1, 40)\n",
    "        #dropout1 = trial.suggest_float(\"dropout1\", 0, 1) \n",
    "        #dropout2 = trial.suggest_float(\"dropout2\", 0, 1)  \n",
    "\n",
    "        n_outp1 = 2\n",
    "        n_outp2 = 8\n",
    "        nmp1 = 15\n",
    "        nmp2 = 14\n",
    "        dropout1 = 0.7\n",
    "        dropout2 = 0.3\n",
    "\n",
    "        \n",
    "        self.conv1 = nn.Conv2d(1, n_outp1, kernel_size=(5,5), stride=(1,1), padding=2)\n",
    "        self.act1 = nn.ReLU()\n",
    "        self.bn1 = nn.BatchNorm2d(n_outp1)\n",
    "        self.mp1 = nn.AdaptiveMaxPool2d(nmp1)\n",
    "        self.drop1 = nn.Dropout(dropout1)\n",
    "        \n",
    "        self.conv2 = nn.Conv2d(n_outp1, n_outp2, kernel_size=(3,3), stride=(1,1), padding=2)\n",
    "        self.act2 = nn.ReLU()\n",
    "        self.bn2 = nn.BatchNorm2d(n_outp2)\n",
    "        self.mp2 = nn.AdaptiveMaxPool2d(nmp2)\n",
    "        self.drop2 = nn.Dropout(dropout2)\n",
    "\n",
    "        n_outp3 = 21\n",
    "        n_outp4 = 35\n",
    "        nmp3 = 2\n",
    "        nmp4 = 5\n",
    "        dropout3 = 0.5\n",
    "        dropout4 = 0.1\n",
    "        \n",
    "        self.conv3 = nn.Conv2d(n_outp2, n_outp3, kernel_size=(3,3), stride=(1,1), padding=1)\n",
    "        self.act3 = nn.ReLU()\n",
    "        self.bn3 = nn.BatchNorm2d(n_outp3)\n",
    "        self.mp3 = nn.AdaptiveMaxPool2d(nmp3)\n",
    "        self.drop3 = nn.Dropout(dropout3)\n",
    "        \n",
    "        self.conv4 = nn.Conv2d(n_outp3, n_outp4, kernel_size=(3,3), stride=(1,1), padding=1)\n",
    "        self.act4 = nn.ReLU()\n",
    "        self.bn4 = nn.BatchNorm2d(n_outp4)\n",
    "        self.mp4 = nn.AdaptiveMaxPool2d(nmp4)\n",
    "        self.drop4 = nn.Dropout(dropout4)\n",
    "        \n",
    "        self.f5 = nn.Flatten(start_dim=1,end_dim=-1)\n",
    "        self.ln5_1 = nn.Linear(n_outp4*nmp4*nmp4,10)\n",
    "        self.r5_1 = nn.ReLU()\n",
    "        self.ln5_2 = nn.Linear(10,27)\n",
    "        self.r5_2 = nn.ReLU()\n",
    "        self.ln5_3 = nn.Linear(27,2)\n",
    "            \n",
    "    def forward(self,x):\n",
    "        x = self.conv1(x)\n",
    "        x = self.act1(x)\n",
    "        x = self.bn1(x)\n",
    "        x = self.mp1(x)\n",
    "        x = self.drop1(x)\n",
    "        \n",
    "        x = self.conv2(x)\n",
    "        x = self.act2(x)\n",
    "        x = self.bn2(x)\n",
    "        x = self.mp2(x) \n",
    "        x = self.drop2(x) \n",
    "        \n",
    "        x = self.conv3(x)\n",
    "        x = self.act3(x)\n",
    "        x = self.bn3(x)\n",
    "        x = self.mp3(x) \n",
    "        x = self.drop3(x) \n",
    "        \n",
    "        x = self.conv4(x)\n",
    "        x = self.act4(x)\n",
    "        x = self.bn4(x)\n",
    "        x = self.mp4(x) \n",
    "        x = self.drop4(x)\n",
    "        \n",
    "        x = self.f5(x)\n",
    "        x = self.ln5_1(x)\n",
    "        x = self.r5_1(x)\n",
    "        x = self.ln5_2(x)\n",
    "        x = self.r5_2(x)\n",
    "        x = self.ln5_3(x)\n",
    "        return x"
   ]
  },
  {
   "cell_type": "code",
   "execution_count": 133,
   "id": "00bd899c-85af-4a2b-a702-1c44f41b496c",
   "metadata": {},
   "outputs": [],
   "source": [
    "def loss_function(y_pred_batch,y_true_batch):\n",
    "    loss_fn = nn.GaussianNLLLoss()\n",
    "    #loss_fn = nn.MSELoss()\n",
    "    var = torch.square(y_pred_batch[:,1])\n",
    "    loss = loss_fn(y_pred_batch[:,0],y_true_batch,var)\n",
    "    #loss = loss_fn(y_pred_batch,y_true_batch)\n",
    "    return loss"
   ]
  },
  {
   "cell_type": "code",
   "execution_count": 134,
   "id": "ad72ea10-8112-4a6e-afb2-405ce5744e70",
   "metadata": {
    "tags": []
   },
   "outputs": [
    {
     "name": "stdout",
     "output_type": "stream",
     "text": [
      "mse: -0.11791905015707016, best: inf\n",
      "mse: -0.9708440899848938, best: -0.11791905015707016\n",
      "mse: 3.1199984550476074, best: -0.9708440899848938\n",
      "mse: 1420.40380859375, best: -0.9708440899848938\n",
      "mse: 119.83800506591797, best: -0.9708440899848938\n",
      "mse: 0.6334683299064636, best: -0.9708440899848938\n",
      "mse: -0.5615960359573364, best: -0.9708440899848938\n",
      "mse: 16.065956115722656, best: -0.9708440899848938\n",
      "mse: 53.700538635253906, best: -0.9708440899848938\n",
      "mse: 481.0085754394531, best: -0.9708440899848938\n",
      "mse: 562.1842651367188, best: -0.9708440899848938\n",
      "mse: 1.3587987422943115, best: -0.9708440899848938\n",
      "mse: -1.3324346542358398, best: -0.9708440899848938\n",
      "mse: -0.7127156853675842, best: -1.3324346542358398\n",
      "mse: -0.39882805943489075, best: -1.3324346542358398\n",
      "mse: 175.06959533691406, best: -1.3324346542358398\n",
      "mse: 52.80327606201172, best: -1.3324346542358398\n",
      "mse: 76.93182373046875, best: -1.3324346542358398\n",
      "mse: 43.39499282836914, best: -1.3324346542358398\n",
      "mse: 6.9537787437438965, best: -1.3324346542358398\n",
      "mse: 511.1931457519531, best: -1.3324346542358398\n",
      "mse: 618.114990234375, best: -1.3324346542358398\n",
      "mse: 524.3583984375, best: -1.3324346542358398\n",
      "mse: 358.4673156738281, best: -1.3324346542358398\n",
      "mse: 36.829490661621094, best: -1.3324346542358398\n",
      "mse: 44.72516632080078, best: -1.3324346542358398\n",
      "mse: 317.5075378417969, best: -1.3324346542358398\n",
      "mse: 198.56207275390625, best: -1.3324346542358398\n",
      "mse: 158.02932739257812, best: -1.3324346542358398\n",
      "mse: 180.01663208007812, best: -1.3324346542358398\n",
      "mse: 119.15878295898438, best: -1.3324346542358398\n",
      "mse: 155.7457275390625, best: -1.3324346542358398\n",
      "mse: 73.04586029052734, best: -1.3324346542358398\n",
      "mse: 146.28408813476562, best: -1.3324346542358398\n",
      "mse: 84.75769805908203, best: -1.3324346542358398\n",
      "mse: 53.31671142578125, best: -1.3324346542358398\n",
      "mse: -0.7350574731826782, best: -1.3324346542358398\n",
      "mse: -1.2749214172363281, best: -1.3324346542358398\n",
      "mse: -1.2742457389831543, best: -1.3324346542358398\n",
      "mse: -1.2619695663452148, best: -1.3324346542358398\n",
      "mse: -1.340258240699768, best: -1.3324346542358398\n",
      "mse: -1.1953356266021729, best: -1.340258240699768\n",
      "mse: -1.253281831741333, best: -1.340258240699768\n",
      "mse: -1.2370469570159912, best: -1.340258240699768\n",
      "mse: -1.3339142799377441, best: -1.340258240699768\n",
      "mse: -1.4288833141326904, best: -1.340258240699768\n",
      "mse: -1.4309748411178589, best: -1.4288833141326904\n",
      "mse: -1.417823076248169, best: -1.4309748411178589\n",
      "mse: -1.4187453985214233, best: -1.4309748411178589\n",
      "mse: -1.4336919784545898, best: -1.4309748411178589\n",
      "mse: -1.4276562929153442, best: -1.4336919784545898\n",
      "mse: -1.4330410957336426, best: -1.4336919784545898\n",
      "mse: -1.4119821786880493, best: -1.4336919784545898\n",
      "mse: -1.4217501878738403, best: -1.4336919784545898\n",
      "mse: -1.3761392831802368, best: -1.4336919784545898\n",
      "mse: -1.2237496376037598, best: -1.4336919784545898\n",
      "mse: -1.3427283763885498, best: -1.4336919784545898\n",
      "mse: -1.358504295349121, best: -1.4336919784545898\n",
      "mse: -1.2897157669067383, best: -1.4336919784545898\n",
      "mse: -1.3371288776397705, best: -1.4336919784545898\n",
      "mse: -1.351959466934204, best: -1.4336919784545898\n",
      "mse: -1.359274983406067, best: -1.4336919784545898\n",
      "mse: -1.3660725355148315, best: -1.4336919784545898\n",
      "mse: -1.3569958209991455, best: -1.4336919784545898\n",
      "mse: -1.3503236770629883, best: -1.4336919784545898\n",
      "mse: -1.3271907567977905, best: -1.4336919784545898\n",
      "mse: -1.3432358503341675, best: -1.4336919784545898\n",
      "mse: -1.4042584896087646, best: -1.4336919784545898\n",
      "mse: -1.6073766946792603, best: -1.4336919784545898\n",
      "mse: 0.6851908564567566, best: -1.6073766946792603\n",
      "mse: 1330.8641357421875, best: -1.6073766946792603\n",
      "mse: -1.0374257564544678, best: -1.6073766946792603\n",
      "mse: -0.9929870367050171, best: -1.6073766946792603\n",
      "mse: -0.9884238243103027, best: -1.6073766946792603\n",
      "mse: -0.9860021471977234, best: -1.6073766946792603\n",
      "mse: -0.9467850923538208, best: -1.6073766946792603\n",
      "mse: -0.9468814730644226, best: -1.6073766946792603\n",
      "mse: -0.9527202248573303, best: -1.6073766946792603\n",
      "mse: -0.9275050163269043, best: -1.6073766946792603\n",
      "mse: -0.9221990704536438, best: -1.6073766946792603\n",
      "mse: -0.9527719020843506, best: -1.6073766946792603\n",
      "mse: -0.9588632583618164, best: -1.6073766946792603\n",
      "mse: -0.9631958603858948, best: -1.6073766946792603\n",
      "mse: -0.9544775485992432, best: -1.6073766946792603\n",
      "mse: -0.9500030279159546, best: -1.6073766946792603\n",
      "mse: -0.9724369645118713, best: -1.6073766946792603\n",
      "mse: -0.9471510648727417, best: -1.6073766946792603\n",
      "mse: -0.9515113234519958, best: -1.6073766946792603\n",
      "mse: -0.9882357716560364, best: -1.6073766946792603\n",
      "mse: -0.9589477777481079, best: -1.6073766946792603\n",
      "mse: -0.9668118357658386, best: -1.6073766946792603\n",
      "mse: -0.9734916090965271, best: -1.6073766946792603\n",
      "mse: -0.9250823259353638, best: -1.6073766946792603\n",
      "mse: -0.89020836353302, best: -1.6073766946792603\n",
      "mse: -0.8976807594299316, best: -1.6073766946792603\n",
      "mse: -0.9041191935539246, best: -1.6073766946792603\n",
      "mse: -0.9063993096351624, best: -1.6073766946792603\n",
      "mse: -0.9034662246704102, best: -1.6073766946792603\n",
      "mse: -0.9137722849845886, best: -1.6073766946792603\n",
      "mse: -0.9264084100723267, best: -1.6073766946792603\n"
     ]
    },
    {
     "data": {
      "image/png": "[encoded data removed]",
      "text/plain": [
       "<Figure size 640x480 with 1 Axes>"
      ]
     },
     "metadata": {},
     "output_type": "display_data"
    }
   ],
   "source": [
    "model = galmodel()\n",
    "if torch.cuda.is_available():\n",
    "    model.cuda()\n",
    "learning_rate = 0.0002\n",
    "wd = 0.0003\n",
    "optimizer = optim.Adam(model.parameters(), lr=learning_rate,weight_decay=wd)\n",
    "av_loss_ar = []\n",
    "# Hold the best model\n",
    "best_mse = np.inf   # init to infinity\n",
    "best_weights = None\n",
    "valid_history = np.zeros(nb_epoch)\n",
    "train_history = np.zeros(nb_epoch)\n",
    "last_loss = 0\n",
    "for i in range(nb_epoch):\n",
    "    model.train()\n",
    "    ep_train_loss = []\n",
    "    for step, (x_batch, y_batch) in enumerate(dataloader_train): \n",
    "        print(\"Current Epoch: \" + str(i) + \", Last Loss: \" + str(last_loss),end=\"\\r\")\n",
    "        y_pred_batch = model(x_batch)\n",
    "        y_pred_batch = torch.squeeze(y_pred_batch)\n",
    "        loss = loss_function(y_pred_batch,y_batch) #sum of the mean squared error / nb_batch\n",
    "        optimizer.zero_grad()\n",
    "        loss.backward()\n",
    "        optimizer.step()\n",
    "        ep_train_loss.append(loss)\n",
    "    train_history[i] = (sum(ep_train_loss)/(nb_train/batch_size))\n",
    "    #now, once an epoch is done:\n",
    "    model.eval()\n",
    "    y_pred = model(x_valid)\n",
    "    y_pred = torch.squeeze(y_pred)\n",
    "    mse = loss_function(y_pred, y_valid)\n",
    "    mse = float(mse)\n",
    "    last_loss = mse\n",
    "    valid_history[i] = mse\n",
    "    print(\"mse: \" + str(mse) + \", best: \" + str(best_mse))\n",
    "    if mse < best_mse:\n",
    "        best_mse = mse\n",
    "        best_weights = copy.deepcopy(model.state_dict()) \n",
    "  #  if(mse < total_best_mse):\n",
    "   #     torch.save(model.state_dict(), 'best-model-parameters.pt')\n",
    "    #    total_best_mse\n",
    "plt.plot(train_history)\n",
    "plt.plot(valid_history) \n",
    "plt.ylabel(\"loss\")\n",
    "plt.xlabel(\"epoch number\")\n",
    "plt.title(\"Training + Validation Loss over Epochs\")\n",
    "plt.show()"
   ]
  },
  {
   "cell_type": "markdown",
   "id": "8efe501a-47a4-445b-a2ac-851a134829bb",
   "metadata": {},
   "source": [
    "**Training the model"
   ]
  },
  {
   "cell_type": "code",
   "execution_count": 135,
   "id": "50eef3d2-a5a4-4fda-bb70-c009c175b793",
   "metadata": {
    "tags": []
   },
   "outputs": [],
   "source": [
    "model.load_state_dict(best_weights)\n",
    "model.eval()\n",
    "loss_fn = nn.GaussianNLLLoss()\n",
    "y_pred = model(x_test)"
   ]
  },
  {
   "cell_type": "code",
   "execution_count": 136,
   "id": "ad1c6f95-7f3b-4bdd-8d89-06c62eb6e400",
   "metadata": {},
   "outputs": [],
   "source": [
    "y_pred_np = y_pred.detach().cpu().numpy()\n",
    "y_test_np = y_test.detach().cpu().numpy()"
   ]
  },
  {
   "cell_type": "code",
   "execution_count": 137,
   "id": "1ff70e93-4eec-4be8-8cc9-0740146fa436",
   "metadata": {},
   "outputs": [
    {
     "data": {
      "text/plain": [
       "<ErrorbarContainer object of 3 artists>"
      ]
     },
     "execution_count": 137,
     "metadata": {},
     "output_type": "execute_result"
    },
    {
     "data": {
      "image/png": "[encoded data removed]",
      "text/plain": [
       "<Figure size 640x480 with 1 Axes>"
      ]
     },
     "metadata": {},
     "output_type": "display_data"
    }
   ],
   "source": [
    "x = np.arange(0,1,0.01)\n",
    "plt.xlim((0,1))\n",
    "plt.ylim((0,1))\n",
    "plt.scatter(x,x,c=\"red\",ec=\"black\")\n",
    "plt.xlabel(\"predicted Stellar Mass\")\n",
    "plt.ylabel(\"true Stellar Mass\")\n",
    "plt.title(\"true Stellar Mass vs predicted Stellar Mass\")\n",
    "#print(y_pred_np[:,1])\n",
    "plt.errorbar(y_pred_np[:,0], y_test_np,markerfacecolor='blue',markeredgecolor='black',yerr = np.abs(y_pred_np[:,1]),color=\"blue\",fmt ='o')"
   ]
  },
  {
   "cell_type": "code",
   "execution_count": 225,
   "id": "90634347-ab46-4eb7-96c7-6de0d56c9ae9",
   "metadata": {},
   "outputs": [],
   "source": [
    "def objective(trial):\n",
    "    model = galmodel(trial)\n",
    "    if torch.cuda.is_available():\n",
    "        model.cuda()\n",
    "    learning_rate = trial.suggest_float(\"lr\", 0, 0.9) \n",
    "    wd = 0.0003 \n",
    "    loss_fn = nn.MSELoss(reduction=\"mean\") #mean_squared_error from before!\n",
    "    optimizer = optim.Adam(model.parameters(), lr=learning_rate,weight_decay=wd)\n",
    "    av_loss_ar = []\n",
    "    # Hold the best model\n",
    "    best_mse = np.inf   # init to infinity\n",
    "    best_weights = None\n",
    "    valid_history = np.zeros(nb_epoch)\n",
    "    train_history = np.zeros(nb_epoch)\n",
    "    last_loss = 0\n",
    "    for i in range(nb_epoch):\n",
    "        model.train()\n",
    "        ep_train_loss = []\n",
    "        for step, (x_batch, y_batch) in enumerate(dataloader_train): \n",
    "            print(\"Current Epoch: \" + str(i) + \", Last Loss: \" + str(last_loss),end=\"\\r\")\n",
    "            y_pred_batch = model(x_batch)\n",
    "            loss = loss_function(y_pred_batch,y_batch) #sum of the mean squared error / nb_batch\n",
    "            optimizer.zero_grad()\n",
    "            loss.backward()\n",
    "            optimizer.step()\n",
    "            ep_train_loss.append(loss)\n",
    "        train_history[i] = (sum(ep_train_loss)/(nb_train/batch_size))\n",
    "        #now, once an epoch is done:\n",
    "        model.eval()\n",
    "        y_pred = model(x_valid)\n",
    "        mse = loss_function(y_pred, y_valid)\n",
    "        mse = float(mse)\n",
    "        last_loss = mse\n",
    "        valid_history[i] = mse\n",
    "        if mse < best_mse:\n",
    "            best_mse = mse\n",
    "            best_weights = copy.deepcopy(model.state_dict()) \n",
    "        trial.report(best_mse, nb_epoch)\n",
    "        if trial.should_prune():\n",
    "            raise optuna.exceptions.TrialPruned()\n",
    "    plt.plot(train_history)\n",
    "    plt.plot(valid_history) \n",
    "    plt.ylabel(\"loss\")\n",
    "    plt.xlabel(\"epoch number\")\n",
    "    plt.title(\"Training + Validation Loss over Epochs\")\n",
    "    plt.show()\n",
    "    return best_mse"
   ]
  },
  {
   "cell_type": "code",
   "execution_count": 23,
   "id": "3688af8b-ac5d-419c-95a5-c77191689140",
   "metadata": {},
   "outputs": [
    {
     "name": "stderr",
     "output_type": "stream",
     "text": [
      "[I 2024-02-09 18:12:01,100] A new study created in memory with name: no-name-11255f9e-f912-4f9f-b384-d8e68934abee\n"
     ]
    },
    {
     "ename": "NameError",
     "evalue": "name 'objective' is not defined",
     "output_type": "error",
     "traceback": [
      "\u001b[0;31m---------------------------------------------------------------------------\u001b[0m",
      "\u001b[0;31mNameError\u001b[0m                                 Traceback (most recent call last)",
      "Cell \u001b[0;32mIn[23], line 3\u001b[0m\n\u001b[1;32m      1\u001b[0m \u001b[38;5;28;01mif\u001b[39;00m \u001b[38;5;18m__name__\u001b[39m \u001b[38;5;241m==\u001b[39m \u001b[38;5;124m\"\u001b[39m\u001b[38;5;124m__main__\u001b[39m\u001b[38;5;124m\"\u001b[39m:\n\u001b[1;32m      2\u001b[0m     study \u001b[38;5;241m=\u001b[39m optuna\u001b[38;5;241m.\u001b[39mcreate_study(direction\u001b[38;5;241m=\u001b[39m\u001b[38;5;124m\"\u001b[39m\u001b[38;5;124mminimize\u001b[39m\u001b[38;5;124m\"\u001b[39m)\n\u001b[0;32m----> 3\u001b[0m     study\u001b[38;5;241m.\u001b[39moptimize(\u001b[43mobjective\u001b[49m, n_trials\u001b[38;5;241m=\u001b[39m\u001b[38;5;241m75\u001b[39m, timeout\u001b[38;5;241m=\u001b[39m\u001b[38;5;241m6000\u001b[39m)\n\u001b[1;32m      5\u001b[0m     pruned_trials \u001b[38;5;241m=\u001b[39m study\u001b[38;5;241m.\u001b[39mget_trials(deepcopy\u001b[38;5;241m=\u001b[39m\u001b[38;5;28;01mFalse\u001b[39;00m, states\u001b[38;5;241m=\u001b[39m[TrialState\u001b[38;5;241m.\u001b[39mPRUNED])\n\u001b[1;32m      6\u001b[0m     complete_trials \u001b[38;5;241m=\u001b[39m study\u001b[38;5;241m.\u001b[39mget_trials(deepcopy\u001b[38;5;241m=\u001b[39m\u001b[38;5;28;01mFalse\u001b[39;00m, states\u001b[38;5;241m=\u001b[39m[TrialState\u001b[38;5;241m.\u001b[39mCOMPLETE])\n",
      "\u001b[0;31mNameError\u001b[0m: name 'objective' is not defined"
     ]
    }
   ],
   "source": [
    "if __name__ == \"__main__\":\n",
    "    study = optuna.create_study(direction=\"minimize\")\n",
    "    study.optimize(objective, n_trials=75, timeout=6000)\n",
    "\n",
    "    pruned_trials = study.get_trials(deepcopy=False, states=[TrialState.PRUNED])\n",
    "    complete_trials = study.get_trials(deepcopy=False, states=[TrialState.COMPLETE])\n",
    "\n",
    "    print(\"Study statistics: \")\n",
    "    print(\"  Number of finished trials: \", len(study.trials))\n",
    "    print(\"  Number of pruned trials: \", len(pruned_trials))\n",
    "    print(\"  Number of complete trials: \", len(complete_trials))\n",
    "\n",
    "    print(\"Best trial:\")\n",
    "    trial = study.best_trial\n",
    "\n",
    "    print(\"  Value: \", trial.value)\n",
    "\n",
    "    print(\"  Params: \")\n",
    "    for key, value in trial.params.items():\n",
    "        print(\"    {}: {}\".format(key, value))\n"
   ]
  }
 ],
 "metadata": {
  "kernelspec": {
   "display_name": "Python 3 (ipykernel)",
   "language": "python",
   "name": "py3-preamble"
  },
  "language_info": {
   "codemirror_mode": {
    "name": "ipython",
    "version": 3
   },
   "file_extension": ".py",
   "mimetype": "text/x-python",
   "name": "python",
   "nbconvert_exporter": "python",
   "pygments_lexer": "ipython3",
   "version": "3.9.15"
  }
 },
 "nbformat": 4,
 "nbformat_minor": 5
}
